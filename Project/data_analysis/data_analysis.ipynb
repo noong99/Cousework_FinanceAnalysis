{
 "cells": [
  {
   "cell_type": "markdown",
   "metadata": {},
   "source": [
    "# Github repository"
   ]
  },
  {
   "cell_type": "markdown",
   "metadata": {},
   "source": [
    "https://github.com/noong99/stats507-coursework/tree/main/Project"
   ]
  },
  {
   "cell_type": "markdown",
   "metadata": {},
   "source": [
    "## Dataset\n",
    "Datasets: finance-financialmodelingprep-stock-news-sentiments-rss-feed  \n",
    "https://huggingface.co/datasets/NickyNicky/finance-financialmodelingprep-stock-news-sentiments-rss-feed"
   ]
  },
  {
   "cell_type": "markdown",
   "metadata": {},
   "source": [
    "## Hugging Face Model"
   ]
  },
  {
   "cell_type": "markdown",
   "metadata": {},
   "source": [
    "https://huggingface.co/ProsusAI/finbert"
   ]
  },
  {
   "cell_type": "markdown",
   "metadata": {},
   "source": [
    "------"
   ]
  },
  {
   "cell_type": "markdown",
   "metadata": {},
   "source": [
    "For using dataset and models provided by HuggingFace, install below packages first."
   ]
  },
  {
   "cell_type": "code",
   "execution_count": 1,
   "metadata": {},
   "outputs": [],
   "source": [
    "# !pip install transformers\n",
    "# !pip install datasets"
   ]
  },
  {
   "cell_type": "code",
   "execution_count": 2,
   "metadata": {},
   "outputs": [],
   "source": [
    "import pandas as pd\n",
    "import scipy\n",
    "import seaborn as sns\n",
    "import matplotlib.pyplot as plt\n",
    "\n",
    "from datasets import load_dataset\n",
    "\n",
    "from sklearn.metrics import accuracy_score, classification_report, confusion_matrix, roc_auc_score\n",
    "import torch\n",
    "import torch.nn.functional as F\n",
    "import  numpy as np\n",
    "# from pytorch_pretrained_bert import BertTokenizr\n",
    "# from bertModel import BertClassification\n",
    "from sklearn.preprocessing import LabelEncoder\n",
    "from sklearn.model_selection import train_test_split\n",
    "from imblearn.over_sampling import SMOTE\n",
    "from sklearn.utils.class_weight import compute_class_weight\n",
    "from sklearn.metrics import accuracy_score\n",
    "from sklearn.metrics import f1_score\n",
    "from sklearn.metrics import classification_report\n",
    "from transformers import pipeline, AutoTokenizer, AutoModelForSequenceClassification, TrainingArguments, Trainer, AdamW"
   ]
  },
  {
   "cell_type": "markdown",
   "metadata": {},
   "source": [
    "### Download dataset from Huggingface Website\n"
   ]
  },
  {
   "cell_type": "code",
   "execution_count": 3,
   "metadata": {},
   "outputs": [
    {
     "data": {
      "text/html": [
       "<div>\n",
       "<style scoped>\n",
       "    .dataframe tbody tr th:only-of-type {\n",
       "        vertical-align: middle;\n",
       "    }\n",
       "\n",
       "    .dataframe tbody tr th {\n",
       "        vertical-align: top;\n",
       "    }\n",
       "\n",
       "    .dataframe thead th {\n",
       "        text-align: right;\n",
       "    }\n",
       "</style>\n",
       "<table border=\"1\" class=\"dataframe\">\n",
       "  <thead>\n",
       "    <tr style=\"text-align: right;\">\n",
       "      <th></th>\n",
       "      <th>symbol</th>\n",
       "      <th>publishedDate</th>\n",
       "      <th>title</th>\n",
       "      <th>image</th>\n",
       "      <th>site</th>\n",
       "      <th>text</th>\n",
       "      <th>url</th>\n",
       "      <th>sentiment</th>\n",
       "      <th>sentimentScore</th>\n",
       "    </tr>\n",
       "  </thead>\n",
       "  <tbody>\n",
       "    <tr>\n",
       "      <th>0</th>\n",
       "      <td>HE</td>\n",
       "      <td>2023-10-04T21:54:28.000Z</td>\n",
       "      <td>HE REMINDER: Kessler Topaz Meltzer &amp; Check, LL...</td>\n",
       "      <td>/next-assets/images/schema-image-default.png</td>\n",
       "      <td>benzinga</td>\n",
       "      <td>RADNOR, Pa., Oct. 04, 2023 (GLOBE NEWSWIRE) --...</td>\n",
       "      <td>https://www.benzinga.com/pressreleases/23/10/g...</td>\n",
       "      <td>Negative</td>\n",
       "      <td>-0.6417</td>\n",
       "    </tr>\n",
       "    <tr>\n",
       "      <th>1</th>\n",
       "      <td>CRS</td>\n",
       "      <td>2023-10-04T21:40:00.000Z</td>\n",
       "      <td>Carpenter Technology Announces Conference Call...</td>\n",
       "      <td>https://ml.globenewswire.com/Resource/Download...</td>\n",
       "      <td>globenewswire</td>\n",
       "      <td>PHILADELPHIA, Oct. 04, 2023 (GLOBE NEWSWIRE) -...</td>\n",
       "      <td>https://www.globenewswire.com/news-release/202...</td>\n",
       "      <td>Positive</td>\n",
       "      <td>0.4767</td>\n",
       "    </tr>\n",
       "    <tr>\n",
       "      <th>2</th>\n",
       "      <td>BB</td>\n",
       "      <td>2023-10-04T21:34:09.000Z</td>\n",
       "      <td>What's Going On With BlackBerry Stock After Ho...</td>\n",
       "      <td>https://cdn.benzinga.com/files/images/story/20...</td>\n",
       "      <td>benzinga</td>\n",
       "      <td>BlackBerry Ltd (NYSE: BB) shares are trading h...</td>\n",
       "      <td>https://www.benzinga.com/news/23/10/35098537/w...</td>\n",
       "      <td>Positive</td>\n",
       "      <td>0.9895</td>\n",
       "    </tr>\n",
       "    <tr>\n",
       "      <th>3</th>\n",
       "      <td>TECK</td>\n",
       "      <td>2023-10-04T21:17:00.000Z</td>\n",
       "      <td>Teck to Release Third Quarter 2023 Results on ...</td>\n",
       "      <td>https://ml.globenewswire.com/Resource/Download...</td>\n",
       "      <td>globenewswire</td>\n",
       "      <td>VANCOUVER, British Columbia, Oct. 04, 2023 (GL...</td>\n",
       "      <td>https://www.globenewswire.com/news-release/202...</td>\n",
       "      <td>Positive</td>\n",
       "      <td>0.8300</td>\n",
       "    </tr>\n",
       "    <tr>\n",
       "      <th>4</th>\n",
       "      <td>AGF</td>\n",
       "      <td>2023-10-04T21:13:38.000Z</td>\n",
       "      <td>AGF Reports September 2023 Assets Under Manage...</td>\n",
       "      <td>/next-assets/images/schema-image-default.png</td>\n",
       "      <td>benzinga</td>\n",
       "      <td>TORONTO, Oct. 04, 2023 (GLOBE NEWSWIRE) -- AGF...</td>\n",
       "      <td>https://www.benzinga.com/pressreleases/23/10/g...</td>\n",
       "      <td>Positive</td>\n",
       "      <td>0.9768</td>\n",
       "    </tr>\n",
       "  </tbody>\n",
       "</table>\n",
       "</div>"
      ],
      "text/plain": [
       "  symbol             publishedDate  \\\n",
       "0     HE  2023-10-04T21:54:28.000Z   \n",
       "1    CRS  2023-10-04T21:40:00.000Z   \n",
       "2     BB  2023-10-04T21:34:09.000Z   \n",
       "3   TECK  2023-10-04T21:17:00.000Z   \n",
       "4    AGF  2023-10-04T21:13:38.000Z   \n",
       "\n",
       "                                               title  \\\n",
       "0  HE REMINDER: Kessler Topaz Meltzer & Check, LL...   \n",
       "1  Carpenter Technology Announces Conference Call...   \n",
       "2  What's Going On With BlackBerry Stock After Ho...   \n",
       "3  Teck to Release Third Quarter 2023 Results on ...   \n",
       "4  AGF Reports September 2023 Assets Under Manage...   \n",
       "\n",
       "                                               image           site  \\\n",
       "0       /next-assets/images/schema-image-default.png       benzinga   \n",
       "1  https://ml.globenewswire.com/Resource/Download...  globenewswire   \n",
       "2  https://cdn.benzinga.com/files/images/story/20...       benzinga   \n",
       "3  https://ml.globenewswire.com/Resource/Download...  globenewswire   \n",
       "4       /next-assets/images/schema-image-default.png       benzinga   \n",
       "\n",
       "                                                text  \\\n",
       "0  RADNOR, Pa., Oct. 04, 2023 (GLOBE NEWSWIRE) --...   \n",
       "1  PHILADELPHIA, Oct. 04, 2023 (GLOBE NEWSWIRE) -...   \n",
       "2  BlackBerry Ltd (NYSE: BB) shares are trading h...   \n",
       "3  VANCOUVER, British Columbia, Oct. 04, 2023 (GL...   \n",
       "4  TORONTO, Oct. 04, 2023 (GLOBE NEWSWIRE) -- AGF...   \n",
       "\n",
       "                                                 url sentiment  sentimentScore  \n",
       "0  https://www.benzinga.com/pressreleases/23/10/g...  Negative         -0.6417  \n",
       "1  https://www.globenewswire.com/news-release/202...  Positive          0.4767  \n",
       "2  https://www.benzinga.com/news/23/10/35098537/w...  Positive          0.9895  \n",
       "3  https://www.globenewswire.com/news-release/202...  Positive          0.8300  \n",
       "4  https://www.benzinga.com/pressreleases/23/10/g...  Positive          0.9768  "
      ]
     },
     "execution_count": 3,
     "metadata": {},
     "output_type": "execute_result"
    }
   ],
   "source": [
    "# Use dataset\n",
    "df_original = pd.read_parquet(\"hf://datasets/NickyNicky/finance-financialmodelingprep-stock-news-sentiments-rss-feed/data/train-00000-of-00001-ccd537eba2831636.parquet\")\n",
    "df_original.head()"
   ]
  },
  {
   "cell_type": "markdown",
   "metadata": {},
   "source": [
    "# 1. Data Processing"
   ]
  },
  {
   "cell_type": "markdown",
   "metadata": {},
   "source": [
    "### 1-1. Data Visualization - EDA Analysis"
   ]
  },
  {
   "cell_type": "code",
   "execution_count": 4,
   "metadata": {},
   "outputs": [
    {
     "data": {
      "text/plain": [
       "symbol             object\n",
       "publishedDate      object\n",
       "title              object\n",
       "image              object\n",
       "site               object\n",
       "text               object\n",
       "url                object\n",
       "sentiment          object\n",
       "sentimentScore    float64\n",
       "dtype: object"
      ]
     },
     "execution_count": 4,
     "metadata": {},
     "output_type": "execute_result"
    }
   ],
   "source": [
    "df_original.dtypes"
   ]
  },
  {
   "cell_type": "code",
   "execution_count": 5,
   "metadata": {},
   "outputs": [
    {
     "name": "stdout",
     "output_type": "stream",
     "text": [
      "<class 'pandas.core.frame.DataFrame'>\n",
      "RangeIndex: 142000 entries, 0 to 141999\n",
      "Data columns (total 9 columns):\n",
      " #   Column          Non-Null Count   Dtype  \n",
      "---  ------          --------------   -----  \n",
      " 0   symbol          142000 non-null  object \n",
      " 1   publishedDate   142000 non-null  object \n",
      " 2   title           142000 non-null  object \n",
      " 3   image           142000 non-null  object \n",
      " 4   site            142000 non-null  object \n",
      " 5   text            142000 non-null  object \n",
      " 6   url             142000 non-null  object \n",
      " 7   sentiment       142000 non-null  object \n",
      " 8   sentimentScore  140336 non-null  float64\n",
      "dtypes: float64(1), object(8)\n",
      "memory usage: 9.8+ MB\n"
     ]
    }
   ],
   "source": [
    "df_original.info()"
   ]
  },
  {
   "cell_type": "code",
   "execution_count": 6,
   "metadata": {},
   "outputs": [
    {
     "name": "stdout",
     "output_type": "stream",
     "text": [
      "Data shape: (142000, 9) \n",
      "\n",
      "Sentiment Distribution : \n",
      "Positive    125630\n",
      "Negative     14521\n",
      "Neutral       1849\n",
      "Name: sentiment, dtype: int64\n"
     ]
    }
   ],
   "source": [
    "print(\"Data shape: {} \\n\".format(df_original.shape))\n",
    "print(\"Sentiment Distribution : \\n{}\".format(df_original.sentiment.value_counts()))"
   ]
  },
  {
   "cell_type": "code",
   "execution_count": 7,
   "metadata": {},
   "outputs": [
    {
     "data": {
      "text/plain": [
       "Text(0, 0.5, 'Number of News')"
      ]
     },
     "execution_count": 7,
     "metadata": {},
     "output_type": "execute_result"
    },
    {
     "data": {
      "image/png": "[encoded data removed]",
      "text/plain": [
       "<Figure size 500x300 with 1 Axes>"
      ]
     },
     "metadata": {},
     "output_type": "display_data"
    }
   ],
   "source": [
    "# Plot to visualize the difference in sentiments\n",
    "plt.figure(figsize = (5,3))\n",
    "sns.countplot(x = 'sentiment', data = df_original)\n",
    "plt.title('Stock News Sentiment Distribution')\n",
    "plt.xlabel('News Polarity')\n",
    "plt.ylabel('Number of News')"
   ]
  },
  {
   "cell_type": "markdown",
   "metadata": {},
   "source": [
    "### 1-2. Data Preprocessing"
   ]
  },
  {
   "cell_type": "markdown",
   "metadata": {},
   "source": [
    "From here, we will perform data preprocessing and assign this DataFrame to df"
   ]
  },
  {
   "cell_type": "code",
   "execution_count": 8,
   "metadata": {},
   "outputs": [],
   "source": [
    "# Dataframe after data preprocessing\n",
    "df = df_original.copy()"
   ]
  },
  {
   "cell_type": "code",
   "execution_count": 9,
   "metadata": {},
   "outputs": [],
   "source": [
    "# Change the data type of 'publishedDate' column into datetime and also make the format uniform(yyyy-mm-dd)\n",
    "# In the later data preprocessing step, this publishedDate will be removed, but for better readability, we will first convert its format\n",
    "df['publishedDate'] = pd.to_datetime(df['publishedDate']).dt.strftime('%Y-%m-%d')"
   ]
  },
  {
   "cell_type": "code",
   "execution_count": 10,
   "metadata": {},
   "outputs": [
    {
     "data": {
      "text/html": [
       "<div>\n",
       "<style scoped>\n",
       "    .dataframe tbody tr th:only-of-type {\n",
       "        vertical-align: middle;\n",
       "    }\n",
       "\n",
       "    .dataframe tbody tr th {\n",
       "        vertical-align: top;\n",
       "    }\n",
       "\n",
       "    .dataframe thead th {\n",
       "        text-align: right;\n",
       "    }\n",
       "</style>\n",
       "<table border=\"1\" class=\"dataframe\">\n",
       "  <thead>\n",
       "    <tr style=\"text-align: right;\">\n",
       "      <th></th>\n",
       "      <th>symbol</th>\n",
       "      <th>publishedDate</th>\n",
       "      <th>title</th>\n",
       "      <th>image</th>\n",
       "      <th>site</th>\n",
       "      <th>text</th>\n",
       "      <th>url</th>\n",
       "      <th>sentiment</th>\n",
       "      <th>sentimentScore</th>\n",
       "      <th>Title_Text</th>\n",
       "    </tr>\n",
       "  </thead>\n",
       "  <tbody>\n",
       "    <tr>\n",
       "      <th>0</th>\n",
       "      <td>HE</td>\n",
       "      <td>2023-10-04</td>\n",
       "      <td>HE REMINDER: Kessler Topaz Meltzer &amp; Check, LL...</td>\n",
       "      <td>/next-assets/images/schema-image-default.png</td>\n",
       "      <td>benzinga</td>\n",
       "      <td>RADNOR, Pa., Oct. 04, 2023 (GLOBE NEWSWIRE) --...</td>\n",
       "      <td>https://www.benzinga.com/pressreleases/23/10/g...</td>\n",
       "      <td>Negative</td>\n",
       "      <td>-0.6417</td>\n",
       "      <td>HE REMINDER: Kessler Topaz Meltzer &amp; Check, LL...</td>\n",
       "    </tr>\n",
       "    <tr>\n",
       "      <th>1</th>\n",
       "      <td>CRS</td>\n",
       "      <td>2023-10-04</td>\n",
       "      <td>Carpenter Technology Announces Conference Call...</td>\n",
       "      <td>https://ml.globenewswire.com/Resource/Download...</td>\n",
       "      <td>globenewswire</td>\n",
       "      <td>PHILADELPHIA, Oct. 04, 2023 (GLOBE NEWSWIRE) -...</td>\n",
       "      <td>https://www.globenewswire.com/news-release/202...</td>\n",
       "      <td>Positive</td>\n",
       "      <td>0.4767</td>\n",
       "      <td>Carpenter Technology Announces Conference Call...</td>\n",
       "    </tr>\n",
       "    <tr>\n",
       "      <th>2</th>\n",
       "      <td>BB</td>\n",
       "      <td>2023-10-04</td>\n",
       "      <td>What's Going On With BlackBerry Stock After Ho...</td>\n",
       "      <td>https://cdn.benzinga.com/files/images/story/20...</td>\n",
       "      <td>benzinga</td>\n",
       "      <td>BlackBerry Ltd (NYSE: BB) shares are trading h...</td>\n",
       "      <td>https://www.benzinga.com/news/23/10/35098537/w...</td>\n",
       "      <td>Positive</td>\n",
       "      <td>0.9895</td>\n",
       "      <td>What's Going On With BlackBerry Stock After Ho...</td>\n",
       "    </tr>\n",
       "    <tr>\n",
       "      <th>3</th>\n",
       "      <td>TECK</td>\n",
       "      <td>2023-10-04</td>\n",
       "      <td>Teck to Release Third Quarter 2023 Results on ...</td>\n",
       "      <td>https://ml.globenewswire.com/Resource/Download...</td>\n",
       "      <td>globenewswire</td>\n",
       "      <td>VANCOUVER, British Columbia, Oct. 04, 2023 (GL...</td>\n",
       "      <td>https://www.globenewswire.com/news-release/202...</td>\n",
       "      <td>Positive</td>\n",
       "      <td>0.8300</td>\n",
       "      <td>Teck to Release Third Quarter 2023 Results on ...</td>\n",
       "    </tr>\n",
       "    <tr>\n",
       "      <th>4</th>\n",
       "      <td>AGF</td>\n",
       "      <td>2023-10-04</td>\n",
       "      <td>AGF Reports September 2023 Assets Under Manage...</td>\n",
       "      <td>/next-assets/images/schema-image-default.png</td>\n",
       "      <td>benzinga</td>\n",
       "      <td>TORONTO, Oct. 04, 2023 (GLOBE NEWSWIRE) -- AGF...</td>\n",
       "      <td>https://www.benzinga.com/pressreleases/23/10/g...</td>\n",
       "      <td>Positive</td>\n",
       "      <td>0.9768</td>\n",
       "      <td>AGF Reports September 2023 Assets Under Manage...</td>\n",
       "    </tr>\n",
       "  </tbody>\n",
       "</table>\n",
       "</div>"
      ],
      "text/plain": [
       "  symbol publishedDate                                              title  \\\n",
       "0     HE    2023-10-04  HE REMINDER: Kessler Topaz Meltzer & Check, LL...   \n",
       "1    CRS    2023-10-04  Carpenter Technology Announces Conference Call...   \n",
       "2     BB    2023-10-04  What's Going On With BlackBerry Stock After Ho...   \n",
       "3   TECK    2023-10-04  Teck to Release Third Quarter 2023 Results on ...   \n",
       "4    AGF    2023-10-04  AGF Reports September 2023 Assets Under Manage...   \n",
       "\n",
       "                                               image           site  \\\n",
       "0       /next-assets/images/schema-image-default.png       benzinga   \n",
       "1  https://ml.globenewswire.com/Resource/Download...  globenewswire   \n",
       "2  https://cdn.benzinga.com/files/images/story/20...       benzinga   \n",
       "3  https://ml.globenewswire.com/Resource/Download...  globenewswire   \n",
       "4       /next-assets/images/schema-image-default.png       benzinga   \n",
       "\n",
       "                                                text  \\\n",
       "0  RADNOR, Pa., Oct. 04, 2023 (GLOBE NEWSWIRE) --...   \n",
       "1  PHILADELPHIA, Oct. 04, 2023 (GLOBE NEWSWIRE) -...   \n",
       "2  BlackBerry Ltd (NYSE: BB) shares are trading h...   \n",
       "3  VANCOUVER, British Columbia, Oct. 04, 2023 (GL...   \n",
       "4  TORONTO, Oct. 04, 2023 (GLOBE NEWSWIRE) -- AGF...   \n",
       "\n",
       "                                                 url sentiment  \\\n",
       "0  https://www.benzinga.com/pressreleases/23/10/g...  Negative   \n",
       "1  https://www.globenewswire.com/news-release/202...  Positive   \n",
       "2  https://www.benzinga.com/news/23/10/35098537/w...  Positive   \n",
       "3  https://www.globenewswire.com/news-release/202...  Positive   \n",
       "4  https://www.benzinga.com/pressreleases/23/10/g...  Positive   \n",
       "\n",
       "   sentimentScore                                         Title_Text  \n",
       "0         -0.6417  HE REMINDER: Kessler Topaz Meltzer & Check, LL...  \n",
       "1          0.4767  Carpenter Technology Announces Conference Call...  \n",
       "2          0.9895  What's Going On With BlackBerry Stock After Ho...  \n",
       "3          0.8300  Teck to Release Third Quarter 2023 Results on ...  \n",
       "4          0.9768  AGF Reports September 2023 Assets Under Manage...  "
      ]
     },
     "execution_count": 10,
     "metadata": {},
     "output_type": "execute_result"
    }
   ],
   "source": [
    "# Create a new column in which title and text are combined into one column\n",
    "df['Title_Text'] = df['title'] + df['text']\n",
    "df.head()"
   ]
  },
  {
   "cell_type": "code",
   "execution_count": 11,
   "metadata": {},
   "outputs": [],
   "source": [
    "# Remove columns that are not needed for prediction\n",
    "df = df.drop(columns = ['symbol', 'publishedDate', 'title', 'image', 'site', 'text', 'url'])"
   ]
  },
  {
   "cell_type": "code",
   "execution_count": 12,
   "metadata": {},
   "outputs": [
    {
     "name": "stdout",
     "output_type": "stream",
     "text": [
      "The number of rows where sentimentScore is null: 1664\n",
      "The number of rows where sentimentScore is null and sentiment is Neutral: 0\n",
      "\n",
      "Data rows where sentimentScore is null\n"
     ]
    },
    {
     "data": {
      "text/html": [
       "<div>\n",
       "<style scoped>\n",
       "    .dataframe tbody tr th:only-of-type {\n",
       "        vertical-align: middle;\n",
       "    }\n",
       "\n",
       "    .dataframe tbody tr th {\n",
       "        vertical-align: top;\n",
       "    }\n",
       "\n",
       "    .dataframe thead th {\n",
       "        text-align: right;\n",
       "    }\n",
       "</style>\n",
       "<table border=\"1\" class=\"dataframe\">\n",
       "  <thead>\n",
       "    <tr style=\"text-align: right;\">\n",
       "      <th></th>\n",
       "      <th>sentiment</th>\n",
       "      <th>sentimentScore</th>\n",
       "      <th>Title_Text</th>\n",
       "    </tr>\n",
       "  </thead>\n",
       "  <tbody>\n",
       "    <tr>\n",
       "      <th>139928</th>\n",
       "      <td>Positive</td>\n",
       "      <td>NaN</td>\n",
       "      <td>Bed Bath &amp; Beyond Falls as Cohen Files to Sell...</td>\n",
       "    </tr>\n",
       "    <tr>\n",
       "      <th>139933</th>\n",
       "      <td>Positive</td>\n",
       "      <td>NaN</td>\n",
       "      <td>bluebird bio's Zynteglo Gets FDA Approval - Li...</td>\n",
       "    </tr>\n",
       "    <tr>\n",
       "      <th>139934</th>\n",
       "      <td>Negative</td>\n",
       "      <td>NaN</td>\n",
       "      <td>Wolfspeed Shares Rise High After Q4 Results To...</td>\n",
       "    </tr>\n",
       "    <tr>\n",
       "      <th>139939</th>\n",
       "      <td>Positive</td>\n",
       "      <td>NaN</td>\n",
       "      <td>Wabash National Corporation Announces Quarterl...</td>\n",
       "    </tr>\n",
       "    <tr>\n",
       "      <th>139940</th>\n",
       "      <td>Positive</td>\n",
       "      <td>NaN</td>\n",
       "      <td>Emclaire Financial Corp Announces Quarterly Di...</td>\n",
       "    </tr>\n",
       "    <tr>\n",
       "      <th>...</th>\n",
       "      <td>...</td>\n",
       "      <td>...</td>\n",
       "      <td>...</td>\n",
       "    </tr>\n",
       "    <tr>\n",
       "      <th>141995</th>\n",
       "      <td>Positive</td>\n",
       "      <td>NaN</td>\n",
       "      <td>aTyr Pharma Announces Inducement Grants Under ...</td>\n",
       "    </tr>\n",
       "    <tr>\n",
       "      <th>141996</th>\n",
       "      <td>Positive</td>\n",
       "      <td>NaN</td>\n",
       "      <td>LMP Automotive Holdings Announces Voluntary NA...</td>\n",
       "    </tr>\n",
       "    <tr>\n",
       "      <th>141997</th>\n",
       "      <td>Positive</td>\n",
       "      <td>NaN</td>\n",
       "      <td>Covenant Logistics Group Announces Filing of U...</td>\n",
       "    </tr>\n",
       "    <tr>\n",
       "      <th>141998</th>\n",
       "      <td>Positive</td>\n",
       "      <td>NaN</td>\n",
       "      <td>Grindrod Shipping Holdings Ltd. Announces Date...</td>\n",
       "    </tr>\n",
       "    <tr>\n",
       "      <th>141999</th>\n",
       "      <td>Positive</td>\n",
       "      <td>NaN</td>\n",
       "      <td>Imago BioSciences Reports Second Quarter 2022 ...</td>\n",
       "    </tr>\n",
       "  </tbody>\n",
       "</table>\n",
       "<p>1664 rows × 3 columns</p>\n",
       "</div>"
      ],
      "text/plain": [
       "       sentiment  sentimentScore  \\\n",
       "139928  Positive             NaN   \n",
       "139933  Positive             NaN   \n",
       "139934  Negative             NaN   \n",
       "139939  Positive             NaN   \n",
       "139940  Positive             NaN   \n",
       "...          ...             ...   \n",
       "141995  Positive             NaN   \n",
       "141996  Positive             NaN   \n",
       "141997  Positive             NaN   \n",
       "141998  Positive             NaN   \n",
       "141999  Positive             NaN   \n",
       "\n",
       "                                               Title_Text  \n",
       "139928  Bed Bath & Beyond Falls as Cohen Files to Sell...  \n",
       "139933  bluebird bio's Zynteglo Gets FDA Approval - Li...  \n",
       "139934  Wolfspeed Shares Rise High After Q4 Results To...  \n",
       "139939  Wabash National Corporation Announces Quarterl...  \n",
       "139940  Emclaire Financial Corp Announces Quarterly Di...  \n",
       "...                                                   ...  \n",
       "141995  aTyr Pharma Announces Inducement Grants Under ...  \n",
       "141996  LMP Automotive Holdings Announces Voluntary NA...  \n",
       "141997  Covenant Logistics Group Announces Filing of U...  \n",
       "141998  Grindrod Shipping Holdings Ltd. Announces Date...  \n",
       "141999  Imago BioSciences Reports Second Quarter 2022 ...  \n",
       "\n",
       "[1664 rows x 3 columns]"
      ]
     },
     "execution_count": 12,
     "metadata": {},
     "output_type": "execute_result"
    }
   ],
   "source": [
    "# Check null values in sentimentScore\n",
    "print(\"The number of rows where sentimentScore is null:\", len(df[df['sentimentScore'].isnull()]))\n",
    "print(\"The number of rows where sentimentScore is null and sentiment is Neutral:\",len(df[(df['sentimentScore'].isnull() & df['sentiment'] == 'Neutral')]))\n",
    "\n",
    "print(\"\\nData rows where sentimentScore is null\")\n",
    "df[df['sentimentScore'].isnull()]"
   ]
  },
  {
   "cell_type": "markdown",
   "metadata": {},
   "source": [
    "We can infer the sentiment even without the sentimentScore, so the absence of sentimentScore values is not a critical issue.  \n",
    "If the sentiment were Neutral, we could replace the sentimentScore with 0, but there are no Neutral cases.  \n",
    "For Positive and Negative sentiments, we could use the mean value to replace the nulls, but to ensure more accurate fitting, remove the rows with null sentimentScore values instead of replacing them.\n",
    "However, since there are sufficient data, we will remove the 1,664 rows where sentimentScore is null."
   ]
  },
  {
   "cell_type": "code",
   "execution_count": 13,
   "metadata": {},
   "outputs": [],
   "source": [
    "# Remove null values in sentimentScore\n",
    "df = df.dropna(subset = ['sentimentScore'])"
   ]
  },
  {
   "cell_type": "code",
   "execution_count": 14,
   "metadata": {},
   "outputs": [
    {
     "name": "stdout",
     "output_type": "stream",
     "text": [
      "(4000, 3)\n"
     ]
    }
   ],
   "source": [
    "# Performing random sampling as the dataset is too large\n",
    "df_sampled = df.sample(n=4000, random_state=129)\n",
    "\n",
    "# Check the size of the sampled data\n",
    "print(df_sampled.shape)"
   ]
  },
  {
   "cell_type": "code",
   "execution_count": 15,
   "metadata": {},
   "outputs": [],
   "source": [
    "# Convert Dataframe to text data\n",
    "news_data = df_sampled.to_csv('news_data_sampled.csv', index = False, encoding = 'utf-8')"
   ]
  }
 ],
 "metadata": {
  "kernelspec": {
   "display_name": "torch",
   "language": "python",
   "name": "python3"
  },
  "language_info": {
   "codemirror_mode": {
    "name": "ipython",
    "version": 3
   },
   "file_extension": ".py",
   "mimetype": "text/x-python",
   "name": "python",
   "nbconvert_exporter": "python",
   "pygments_lexer": "ipython3",
   "version": "3.10.0"
  }
 },
 "nbformat": 4,
 "nbformat_minor": 2
}
